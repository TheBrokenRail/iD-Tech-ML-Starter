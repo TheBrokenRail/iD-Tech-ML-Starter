{
 "cells": [
  {
   "cell_type": "markdown",
   "metadata": {
    "collapsed": true
   },
   "source": [
    "Intro to Tensorflow\n",
    "---\n",
    "\n",
    "Import tensorflow and other needed libraries here:"
   ]
  },
  {
   "cell_type": "code",
   "execution_count": 99,
   "metadata": {},
   "outputs": [],
   "source": [
    "# TODO: Add imports.\n",
    "import tensorflow as tf\n",
    "import matplotlib.pyplot as plt \n",
    "%matplotlib inline"
   ]
  },
  {
   "cell_type": "markdown",
   "metadata": {},
   "source": [
    "Clear the Graph\n",
    "---\n",
    "Clear the default graph to reset everything back to default"
   ]
  },
  {
   "cell_type": "code",
   "execution_count": 100,
   "metadata": {},
   "outputs": [
    {
     "ename": "TypeError",
     "evalue": "'Tensor' object is not callable",
     "traceback": [
      "\u001b[0;31m---------------------------------------------------------------------------\u001b[0m",
      "\u001b[0;31mTypeError\u001b[0m                                 Traceback (most recent call last)",
      "\u001b[0;32m<ipython-input-100-47581553763d>\u001b[0m in \u001b[0;36m<module>\u001b[0;34m()\u001b[0m\n\u001b[1;32m      2\u001b[0m \u001b[0mtf\u001b[0m\u001b[0;34m.\u001b[0m\u001b[0mreset_default_graph\u001b[0m\u001b[0;34m(\u001b[0m\u001b[0;34m)\u001b[0m\u001b[0;34m\u001b[0m\u001b[0m\n\u001b[1;32m      3\u001b[0m \u001b[0;34m\u001b[0m\u001b[0m\n\u001b[0;32m----> 4\u001b[0;31m \u001b[0mtest_constant\u001b[0m \u001b[0;34m=\u001b[0m \u001b[0mtf\u001b[0m\u001b[0;34m.\u001b[0m\u001b[0mconstant\u001b[0m\u001b[0;34m(\u001b[0m\u001b[0;36m10.0\u001b[0m\u001b[0;34m,\u001b[0m \u001b[0mdtype\u001b[0m\u001b[0;34m=\u001b[0m\u001b[0mtf\u001b[0m\u001b[0;34m.\u001b[0m\u001b[0mfloat32\u001b[0m\u001b[0;34m)\u001b[0m\u001b[0;34m\u001b[0m\u001b[0m\n\u001b[0m\u001b[1;32m      5\u001b[0m \u001b[0madd_one_operation\u001b[0m \u001b[0;34m=\u001b[0m \u001b[0mtest_constant\u001b[0m \u001b[0;34m+\u001b[0m \u001b[0;36m1\u001b[0m\u001b[0;34m\u001b[0m\u001b[0m\n",
      "\u001b[0;31mTypeError\u001b[0m: 'Tensor' object is not callable"
     ],
     "output_type": "error"
    }
   ],
   "source": [
    "# TODO: Clear the tensorflow graph\n",
    "tf.reset_default_graph()\n",
    "    \n",
    "test_constant = tf.constant(10.0, dtype=tf.float32)\n",
    "add_one_operation = test_constant + 1"
   ]
  },
  {
   "cell_type": "markdown",
   "metadata": {},
   "source": [
    "Set up Placeholders\n",
    "---\n",
    "Placeholders are places you can feed data into your model. They indicate a value that you'll feed in later when the network is run."
   ]
  },
  {
   "cell_type": "code",
   "execution_count": 101,
   "metadata": {},
   "outputs": [
    {
     "ename": "SyntaxError",
     "evalue": "positional argument follows keyword argument (<ipython-input-101-123fd1d773a8>, line 4)",
     "traceback": [
      "\u001b[0;36m  File \u001b[0;32m\"<ipython-input-101-123fd1d773a8>\"\u001b[0;36m, line \u001b[0;32m4\u001b[0m\n\u001b[0;31m    input_data = tf.placeholder(dtype=tf.float32, shape=None, 2)\u001b[0m\n\u001b[0m                                                             ^\u001b[0m\n\u001b[0;31mSyntaxError\u001b[0m\u001b[0;31m:\u001b[0m positional argument follows keyword argument\n"
     ],
     "output_type": "error"
    }
   ],
   "source": [
    "# TODO: Create placeholders\n",
    "tf.reset_default_graph()\n",
    "\n",
    "input_data = tf.placeholder(dtype=tf.float32, shape=None, 2)\n",
    "\n",
    "double_operation = input_data * 2"
   ]
  },
  {
   "cell_type": "markdown",
   "metadata": {},
   "source": [
    "Variables\n",
    "---\n",
    "Variables keep their value between runs. These are the building blocks of machine learning, and represent the parameters that will be tuned as your model trains"
   ]
  },
  {
   "cell_type": "code",
   "execution_count": 102,
   "metadata": {},
   "outputs": [],
   "source": [
    "# TODO: Create variables\n",
    "tf.reset_default_graph()\n",
    "\n",
    "input_data = tf.placeholder(dtype=tf.float32, shape=None)\n",
    "output_data = tf.placeholder(dtype=tf.float32, shape=None)\n",
    "\n",
    "slope = tf.Variable(0.5, dtype=tf.float32)\n",
    "intercept = tf.Variable(0.1, dtype=tf.float32)\n",
    "\n",
    "model_operation = slope * input_data + intercept\n",
    "\n",
    "error = model_operation - output_data\n",
    "squared_error = tf.square(error)\n",
    "loss = tf.reduce_mean(squared_error)\n",
    "\n",
    "optimizer = tf.train.GradientDescentOptimizer(learning_rate=0.005)\n",
    "train = optimizer.minimize(loss)"
   ]
  },
  {
   "cell_type": "markdown",
   "metadata": {},
   "source": [
    "Running a Session\n",
    "---\n",
    "Once your graph is built, you can start a session. Putting the session in a `with` statement allows the session to automatically close once the statement finishes:\n",
    "```\n",
    "with tf.Session() as sess:\n",
    "    # Run the session in here\n",
    "    ...\n",
    "# Session closes when you get here\n",
    "```"
   ]
  },
  {
   "cell_type": "code",
   "execution_count": 111,
   "metadata": {},
   "outputs": [
    {
     "name": "stdout",
     "output_type": "stream",
     "text": [
      "2.40721e-07\n"
     ]
    },
    {
     "data": {
      "image/png": "[encoded data removed]",
      "text/plain": [
       "<matplotlib.figure.Figure at 0x7fa4a42598d0>"
      ]
     },
     "metadata": {},
     "output_type": "display_data"
    }
   ],
   "source": [
    "# TODO: Run a session\n",
    "\n",
    "init = tf.global_variables_initializer()\n",
    " \n",
    "x_values = [0, 1, 2, 3, 4]\n",
    "y_values = [1, 3, 5, 7, 9]\n",
    " \n",
    "with tf.Session() as sess:\n",
    "    sess.run(init)\n",
    "    for i in range(2000):\n",
    "        sess.run(train, feed_dict={input_data:x_values, output_data: y_values})\n",
    "        if 1 % 10 == 0:\n",
    "            print(sess.run([slope, intercept]))\n",
    "            plt.plot(x_values, sess.run(model_operation, feed_dict={input_data: x_values}))\n",
    "    print(sess.run(loss, feed_dict={input_data: x_values, output_data: y_values}))\n",
    "    plt.plot(x_values, y_values, 'ro', 'Training Data')\n",
    "    plt.plot(x_values, sess.run(model_operation, feed_dict={input_data: x_values}))\n",
    "    plt.show()"
   ]
  },
  {
   "cell_type": "markdown",
   "metadata": {},
   "source": [
    "Neurons and Neural Networks\n",
    "---\n",
    "Tensorflow provides functions to easily create layers of neurons for a neural network."
   ]
  },
  {
   "cell_type": "code",
   "execution_count": 82,
   "metadata": {},
   "outputs": [],
   "source": []
  },
  {
   "cell_type": "code",
   "execution_count": 82,
   "metadata": {},
   "outputs": [],
   "source": []
  },
  {
   "cell_type": "code",
   "execution_count": null,
   "metadata": {},
   "outputs": [],
   "source": []
  }
 ],
 "metadata": {
  "kernelspec": {
   "display_name": "Python 2",
   "language": "python",
   "name": "python2"
  },
  "language_info": {
   "codemirror_mode": {
    "name": "ipython",
    "version": 2
   },
   "file_extension": ".py",
   "mimetype": "text/x-python",
   "name": "python",
   "nbconvert_exporter": "python",
   "pygments_lexer": "ipython2",
   "version": "2.7.6"
  }
 },
 "nbformat": 4,
 "nbformat_minor": 0
}
